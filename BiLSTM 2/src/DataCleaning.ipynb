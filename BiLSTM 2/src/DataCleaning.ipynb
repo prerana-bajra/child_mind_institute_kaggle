{
 "cells": [
  {
   "cell_type": "code",
   "execution_count": 1,
   "id": "8d891f8c-a79a-4606-9f36-8dae28354454",
   "metadata": {},
   "outputs": [
    {
     "name": "stdout",
     "output_type": "stream",
     "text": [
      "Intel MKL WARNING: Support of Intel(R) Streaming SIMD Extensions 4.2 (Intel(R) SSE4.2) enabled only processors has been deprecated. Intel oneAPI Math Kernel Library 2025.0 will require Intel(R) Advanced Vector Extensions (Intel(R) AVX) instructions.\n",
      "Intel MKL WARNING: Support of Intel(R) Streaming SIMD Extensions 4.2 (Intel(R) SSE4.2) enabled only processors has been deprecated. Intel oneAPI Math Kernel Library 2025.0 will require Intel(R) Advanced Vector Extensions (Intel(R) AVX) instructions.\n"
     ]
    }
   ],
   "source": [
    "import os\n",
    "import gc\n",
    "import numpy as np\n",
    "import pandas as pd\n",
    "import random\n",
    "from datetime import datetime\n",
    "import seaborn as sns\n",
    "import matplotlib.pyplot as plt\n",
    "import ipywidgets as widgets\n",
    "from IPython.display import display\n",
    "import warnings"
   ]
  },
  {
   "cell_type": "code",
   "execution_count": 2,
   "id": "ac0391a9-8806-41d1-a391-75e9e1042934",
   "metadata": {},
   "outputs": [],
   "source": [
    "# Set precision to two decimals\n",
    "pd.set_option(\"display.precision\", 2)\n",
    "\n",
    "# Charts inline\n",
    "%matplotlib inline"
   ]
  },
  {
   "cell_type": "code",
   "execution_count": 3,
   "id": "85f42ed5-1c5c-482d-806f-7f9a761e2901",
   "metadata": {},
   "outputs": [
    {
     "name": "stdout",
     "output_type": "stream",
     "text": [
      "Reading files.....\n",
      "..... done!\n"
     ]
    }
   ],
   "source": [
    "print('Reading files.....')\n",
    "path = '../child-mind-institute-detect-sleep-states/'\n",
    "train_events = pd.read_csv(path + 'train_events.csv')\n",
    "train_series = pd.read_parquet(path + 'train_series.parquet')\n",
    "test_series = pd.read_parquet(path + 'test_series.parquet')\n",
    "sample_submission = pd.read_csv(path + 'sample_submission.csv')\n",
    "print('..... done!')"
   ]
  },
  {
   "cell_type": "markdown",
   "id": "50cd79e9-8e34-4d8a-b104-01e9560d8513",
   "metadata": {},
   "source": [
    "## Data Analysis and Cleaning"
   ]
  },
  {
   "cell_type": "code",
   "execution_count": 4,
   "id": "8f6873d7-eae1-487c-ae82-762d70a7ee22",
   "metadata": {},
   "outputs": [
    {
     "name": "stdout",
     "output_type": "stream",
     "text": [
      "<class 'pandas.core.frame.DataFrame'>\n",
      "RangeIndex: 14508 entries, 0 to 14507\n",
      "Data columns (total 5 columns):\n",
      " #   Column     Non-Null Count  Dtype  \n",
      "---  ------     --------------  -----  \n",
      " 0   series_id  14508 non-null  object \n",
      " 1   night      14508 non-null  int64  \n",
      " 2   event      14508 non-null  object \n",
      " 3   step       9585 non-null   float64\n",
      " 4   timestamp  9585 non-null   object \n",
      "dtypes: float64(1), int64(1), object(3)\n",
      "memory usage: 566.8+ KB\n"
     ]
    }
   ],
   "source": [
    "train_events.info()"
   ]
  },
  {
   "cell_type": "code",
   "execution_count": 5,
   "id": "d1178ba7-166a-45be-b5df-48685832c316",
   "metadata": {},
   "outputs": [
    {
     "name": "stdout",
     "output_type": "stream",
     "text": [
      "<class 'pandas.core.frame.DataFrame'>\n",
      "RangeIndex: 9585 entries, 0 to 9584\n",
      "Data columns (total 5 columns):\n",
      " #   Column     Non-Null Count  Dtype  \n",
      "---  ------     --------------  -----  \n",
      " 0   series_id  9585 non-null   object \n",
      " 1   night      9585 non-null   int64  \n",
      " 2   event      9585 non-null   object \n",
      " 3   step       9585 non-null   float64\n",
      " 4   timestamp  9585 non-null   object \n",
      "dtypes: float64(1), int64(1), object(3)\n",
      "memory usage: 374.5+ KB\n"
     ]
    }
   ],
   "source": [
    "train_events = train_events.dropna(axis=0, ignore_index=True)\n",
    "train_events.info()"
   ]
  },
  {
   "cell_type": "markdown",
   "id": "abbb97e8-9e7b-4747-91fc-912ebbd4138e",
   "metadata": {},
   "source": [
    "## Remove records without onset and awake pair"
   ]
  },
  {
   "cell_type": "code",
   "execution_count": 6,
   "id": "e7ff310e-63fb-422d-96d2-2ba97d449563",
   "metadata": {},
   "outputs": [
    {
     "data": {
      "text/html": [
       "<div>\n",
       "<style scoped>\n",
       "    .dataframe tbody tr th:only-of-type {\n",
       "        vertical-align: middle;\n",
       "    }\n",
       "\n",
       "    .dataframe tbody tr th {\n",
       "        vertical-align: top;\n",
       "    }\n",
       "\n",
       "    .dataframe thead th {\n",
       "        text-align: right;\n",
       "    }\n",
       "</style>\n",
       "<table border=\"1\" class=\"dataframe\">\n",
       "  <thead>\n",
       "    <tr style=\"text-align: right;\">\n",
       "      <th></th>\n",
       "      <th></th>\n",
       "      <th>event</th>\n",
       "    </tr>\n",
       "    <tr>\n",
       "      <th>series_id</th>\n",
       "      <th>night</th>\n",
       "      <th></th>\n",
       "    </tr>\n",
       "  </thead>\n",
       "  <tbody>\n",
       "    <tr>\n",
       "      <th>0ce74d6d2106</th>\n",
       "      <th>20</th>\n",
       "      <td>1</td>\n",
       "    </tr>\n",
       "    <tr>\n",
       "      <th>154fe824ed87</th>\n",
       "      <th>30</th>\n",
       "      <td>1</td>\n",
       "    </tr>\n",
       "    <tr>\n",
       "      <th>44a41bba1ee7</th>\n",
       "      <th>10</th>\n",
       "      <td>1</td>\n",
       "    </tr>\n",
       "    <tr>\n",
       "      <th>efbfc4526d58</th>\n",
       "      <th>7</th>\n",
       "      <td>1</td>\n",
       "    </tr>\n",
       "    <tr>\n",
       "      <th>f8a8da8bdd00</th>\n",
       "      <th>17</th>\n",
       "      <td>1</td>\n",
       "    </tr>\n",
       "  </tbody>\n",
       "</table>\n",
       "</div>"
      ],
      "text/plain": [
       "                    event\n",
       "series_id    night       \n",
       "0ce74d6d2106 20         1\n",
       "154fe824ed87 30         1\n",
       "44a41bba1ee7 10         1\n",
       "efbfc4526d58 7          1\n",
       "f8a8da8bdd00 17         1"
      ]
     },
     "execution_count": 6,
     "metadata": {},
     "output_type": "execute_result"
    }
   ],
   "source": [
    "bad_nights = train_events[['series_id', 'night', 'event']].groupby(by=['series_id', 'night']).count()\n",
    "bad_nights[bad_nights['event']!=2]"
   ]
  },
  {
   "cell_type": "code",
   "execution_count": 7,
   "id": "93754efe-b683-496c-a596-139b6bd71e4c",
   "metadata": {},
   "outputs": [
    {
     "data": {
      "text/html": [
       "<div>\n",
       "<style scoped>\n",
       "    .dataframe tbody tr th:only-of-type {\n",
       "        vertical-align: middle;\n",
       "    }\n",
       "\n",
       "    .dataframe tbody tr th {\n",
       "        vertical-align: top;\n",
       "    }\n",
       "\n",
       "    .dataframe thead th {\n",
       "        text-align: right;\n",
       "    }\n",
       "</style>\n",
       "<table border=\"1\" class=\"dataframe\">\n",
       "  <thead>\n",
       "    <tr style=\"text-align: right;\">\n",
       "      <th></th>\n",
       "      <th>series_id</th>\n",
       "      <th>night</th>\n",
       "      <th>event</th>\n",
       "      <th>step</th>\n",
       "      <th>timestamp</th>\n",
       "    </tr>\n",
       "  </thead>\n",
       "  <tbody>\n",
       "    <tr>\n",
       "      <th>310</th>\n",
       "      <td>0ce74d6d2106</td>\n",
       "      <td>20</td>\n",
       "      <td>onset</td>\n",
       "      <td>332376.0</td>\n",
       "      <td>2017-09-09T22:08:00-0400</td>\n",
       "    </tr>\n",
       "    <tr>\n",
       "      <th>957</th>\n",
       "      <td>154fe824ed87</td>\n",
       "      <td>30</td>\n",
       "      <td>wakeup</td>\n",
       "      <td>514980.0</td>\n",
       "      <td>2019-02-25T09:45:00-0500</td>\n",
       "    </tr>\n",
       "    <tr>\n",
       "      <th>2668</th>\n",
       "      <td>44a41bba1ee7</td>\n",
       "      <td>10</td>\n",
       "      <td>wakeup</td>\n",
       "      <td>165684.0</td>\n",
       "      <td>2018-03-04T08:07:00-0500</td>\n",
       "    </tr>\n",
       "    <tr>\n",
       "      <th>9099</th>\n",
       "      <td>efbfc4526d58</td>\n",
       "      <td>7</td>\n",
       "      <td>wakeup</td>\n",
       "      <td>114864.0</td>\n",
       "      <td>2018-12-21T07:47:00-0500</td>\n",
       "    </tr>\n",
       "    <tr>\n",
       "      <th>9352</th>\n",
       "      <td>f8a8da8bdd00</td>\n",
       "      <td>17</td>\n",
       "      <td>wakeup</td>\n",
       "      <td>291384.0</td>\n",
       "      <td>2017-12-10T12:57:00-0500</td>\n",
       "    </tr>\n",
       "  </tbody>\n",
       "</table>\n",
       "</div>"
      ],
      "text/plain": [
       "         series_id  night   event      step                 timestamp\n",
       "310   0ce74d6d2106     20   onset  332376.0  2017-09-09T22:08:00-0400\n",
       "957   154fe824ed87     30  wakeup  514980.0  2019-02-25T09:45:00-0500\n",
       "2668  44a41bba1ee7     10  wakeup  165684.0  2018-03-04T08:07:00-0500\n",
       "9099  efbfc4526d58      7  wakeup  114864.0  2018-12-21T07:47:00-0500\n",
       "9352  f8a8da8bdd00     17  wakeup  291384.0  2017-12-10T12:57:00-0500"
      ]
     },
     "execution_count": 7,
     "metadata": {},
     "output_type": "execute_result"
    }
   ],
   "source": [
    " train_events[(((train_events['series_id']=='0ce74d6d2106') & (train_events['night']==20)) |\n",
    "               ((train_events['series_id']=='154fe824ed87') & (train_events['night']==30)) |\n",
    "               ((train_events['series_id']=='44a41bba1ee7') & (train_events['night']==10)) |                \n",
    "               ((train_events['series_id']=='efbfc4526d58') & (train_events['night']==7)) |\n",
    "               ((train_events['series_id']=='f8a8da8bdd00') & (train_events['night']==17)))]"
   ]
  },
  {
   "cell_type": "code",
   "execution_count": 8,
   "id": "519e2bd9-c491-467f-93c1-b8334de3e434",
   "metadata": {},
   "outputs": [
    {
     "name": "stdout",
     "output_type": "stream",
     "text": [
      "<class 'pandas.core.frame.DataFrame'>\n",
      "RangeIndex: 9580 entries, 0 to 9579\n",
      "Data columns (total 5 columns):\n",
      " #   Column     Non-Null Count  Dtype  \n",
      "---  ------     --------------  -----  \n",
      " 0   series_id  9580 non-null   object \n",
      " 1   night      9580 non-null   int64  \n",
      " 2   event      9580 non-null   object \n",
      " 3   step       9580 non-null   float64\n",
      " 4   timestamp  9580 non-null   object \n",
      "dtypes: float64(1), int64(1), object(3)\n",
      "memory usage: 374.3+ KB\n"
     ]
    }
   ],
   "source": [
    "train_events = train_events[~(((train_events['series_id']=='0ce74d6d2106') & (train_events['night']==20)) |\n",
    "                              ((train_events['series_id']=='154fe824ed87') & (train_events['night']==30)) |\n",
    "                              ((train_events['series_id']=='44a41bba1ee7') & (train_events['night']==10)) |                \n",
    "                              ((train_events['series_id']=='efbfc4526d58') & (train_events['night']==7)) |\n",
    "                              ((train_events['series_id']=='f8a8da8bdd00') & (train_events['night']==17)))].reset_index(drop=True)\n",
    "\n",
    "train_events.info()"
   ]
  },
  {
   "cell_type": "code",
   "execution_count": 9,
   "id": "f32d81bd-1a36-4054-9cf7-25312a9caea0",
   "metadata": {},
   "outputs": [
    {
     "name": "stdout",
     "output_type": "stream",
     "text": [
      "Total number of valid series in training dataset: 269\n"
     ]
    }
   ],
   "source": [
    "series_list = list(train_events['series_id'].unique())\n",
    "print('Total number of valid series in training dataset: '+ str(len(series_list)))"
   ]
  },
  {
   "cell_type": "code",
   "execution_count": 10,
   "id": "81ae139a-a1fd-41b3-a949-8957f5ef666e",
   "metadata": {},
   "outputs": [
    {
     "data": {
      "text/plain": [
       "series_id    False\n",
       "step         False\n",
       "timestamp    False\n",
       "anglez       False\n",
       "enmo         False\n",
       "dtype: bool"
      ]
     },
     "execution_count": 10,
     "metadata": {},
     "output_type": "execute_result"
    }
   ],
   "source": [
    "# Update train_series dataset with final set of series\n",
    "train_series = train_series[train_series['series_id'].isin(series_list)].reset_index(drop=True)\n",
    "# Check for nulls\n",
    "train_series.isnull().any()"
   ]
  },
  {
   "cell_type": "markdown",
   "id": "0f97383b-61bd-4927-b550-49370a4c6484",
   "metadata": {},
   "source": [
    "## Visualizing the provided test subjects by Kaggle"
   ]
  },
  {
   "cell_type": "code",
   "execution_count": 11,
   "id": "5a8d4cbc-689e-40d3-905d-2ef7abb9c56b",
   "metadata": {},
   "outputs": [
    {
     "data": {
      "image/png": "[encoded data removed]",
      "text/plain": [
       "<Figure size 1000x800 with 6 Axes>"
      ]
     },
     "metadata": {},
     "output_type": "display_data"
    }
   ],
   "source": [
    "def plot_test_series():\n",
    "    fig, ax = plt.subplots(3,1, figsize=(10,8), sharex=True)\n",
    "    ax2 = {}\n",
    "    i = 0\n",
    "    test_series_list = list(test_series['series_id'].unique())\n",
    "    for id in test_series_list:\n",
    "        ax[i].set_title('series_id: ' + id, loc='left', fontsize=10)\n",
    "        x = test_series[test_series['series_id']==id]['step']\n",
    "        y_enmo = test_series[test_series['series_id']==id]['enmo']\n",
    "        y_anglez = test_series[test_series['series_id']==id]['anglez']\n",
    "        ax[i].plot(x, y_enmo, label='enmo', color='magenta', lw=1, alpha=0.9)\n",
    "        ax[i].set_ylabel('enmo', fontsize=9)\n",
    "        ax[i].tick_params(labelsize=9)\n",
    "        ax2[i] = ax[i].twinx()\n",
    "        ax2[i].plot(x, y_anglez, label='anglez', color='lime', lw=1, alpha=0.9)\n",
    "        ax2[i].set_ylabel('anglez', fontsize=9)\n",
    "        i = i + 1\n",
    "    h1, l1 = ax[2].get_legend_handles_labels()\n",
    "    h2, l2 = ax2[2].get_legend_handles_labels()\n",
    "    plt.figlegend(h1+h2, l1+l2, loc='upper left', bbox_to_anchor=(0.12, 0.97, 0.0, 0.0), ncols=2)\n",
    "    ax[2].set_xlabel('step')\n",
    "    plt.show()\n",
    "\n",
    "# Plot it\n",
    "plot_test_series()"
   ]
  },
  {
   "cell_type": "code",
   "execution_count": 12,
   "id": "118a3285-154b-4594-9610-4c6ea2658014",
   "metadata": {},
   "outputs": [
    {
     "data": {
      "text/plain": [
       "series_id    False\n",
       "step         False\n",
       "timestamp    False\n",
       "anglez       False\n",
       "enmo         False\n",
       "dtype: bool"
      ]
     },
     "execution_count": 12,
     "metadata": {},
     "output_type": "execute_result"
    }
   ],
   "source": [
    "test_series.isnull().any()"
   ]
  },
  {
   "cell_type": "code",
   "execution_count": 13,
   "id": "a3dbe3cd-fc13-49f6-95bd-8a3fa3ce3aac",
   "metadata": {},
   "outputs": [
    {
     "data": {
      "text/html": [
       "<div>\n",
       "<style scoped>\n",
       "    .dataframe tbody tr th:only-of-type {\n",
       "        vertical-align: middle;\n",
       "    }\n",
       "\n",
       "    .dataframe tbody tr th {\n",
       "        vertical-align: top;\n",
       "    }\n",
       "\n",
       "    .dataframe thead th {\n",
       "        text-align: right;\n",
       "    }\n",
       "</style>\n",
       "<table border=\"1\" class=\"dataframe\">\n",
       "  <thead>\n",
       "    <tr style=\"text-align: right;\">\n",
       "      <th></th>\n",
       "      <th>row_id</th>\n",
       "      <th>series_id</th>\n",
       "      <th>step</th>\n",
       "      <th>event</th>\n",
       "      <th>score</th>\n",
       "    </tr>\n",
       "  </thead>\n",
       "  <tbody>\n",
       "    <tr>\n",
       "      <th>0</th>\n",
       "      <td>0</td>\n",
       "      <td>038441c925bb</td>\n",
       "      <td>100</td>\n",
       "      <td>onset</td>\n",
       "      <td>0.0</td>\n",
       "    </tr>\n",
       "    <tr>\n",
       "      <th>1</th>\n",
       "      <td>1</td>\n",
       "      <td>038441c925bb</td>\n",
       "      <td>105</td>\n",
       "      <td>wakeup</td>\n",
       "      <td>0.0</td>\n",
       "    </tr>\n",
       "    <tr>\n",
       "      <th>2</th>\n",
       "      <td>2</td>\n",
       "      <td>03d92c9f6f8a</td>\n",
       "      <td>80</td>\n",
       "      <td>onset</td>\n",
       "      <td>0.5</td>\n",
       "    </tr>\n",
       "    <tr>\n",
       "      <th>3</th>\n",
       "      <td>3</td>\n",
       "      <td>03d92c9f6f8a</td>\n",
       "      <td>110</td>\n",
       "      <td>wakeup</td>\n",
       "      <td>0.5</td>\n",
       "    </tr>\n",
       "    <tr>\n",
       "      <th>4</th>\n",
       "      <td>4</td>\n",
       "      <td>0402a003dae9</td>\n",
       "      <td>90</td>\n",
       "      <td>onset</td>\n",
       "      <td>1.0</td>\n",
       "    </tr>\n",
       "    <tr>\n",
       "      <th>5</th>\n",
       "      <td>5</td>\n",
       "      <td>0402a003dae9</td>\n",
       "      <td>120</td>\n",
       "      <td>wakeup</td>\n",
       "      <td>1.0</td>\n",
       "    </tr>\n",
       "  </tbody>\n",
       "</table>\n",
       "</div>"
      ],
      "text/plain": [
       "   row_id     series_id  step   event  score\n",
       "0       0  038441c925bb   100   onset    0.0\n",
       "1       1  038441c925bb   105  wakeup    0.0\n",
       "2       2  03d92c9f6f8a    80   onset    0.5\n",
       "3       3  03d92c9f6f8a   110  wakeup    0.5\n",
       "4       4  0402a003dae9    90   onset    1.0\n",
       "5       5  0402a003dae9   120  wakeup    1.0"
      ]
     },
     "execution_count": 13,
     "metadata": {},
     "output_type": "execute_result"
    }
   ],
   "source": [
    "sample_submission"
   ]
  },
  {
   "cell_type": "markdown",
   "id": "da2770e1-f1d3-4c07-8bb1-532ffed2e222",
   "metadata": {},
   "source": [
    "## Creating cleaned data files"
   ]
  },
  {
   "cell_type": "code",
   "execution_count": 14,
   "id": "e9e229e8-6a99-467a-9bdc-c9efda7b4396",
   "metadata": {},
   "outputs": [
    {
     "name": "stdout",
     "output_type": "stream",
     "text": [
      "Nbr. of selected training series: 269\n",
      "Nbr. of data points (timesteps): 124822080\n",
      "\n",
      "CPU times: user 5min 36s, sys: 26min 12s, total: 31min 48s\n",
      "Wall time: 48min 10s\n"
     ]
    }
   ],
   "source": [
    "%%time\n",
    "NBR_SAMPLES = len(series_list) # 200 # <-- adjust the sample using this, the lesser the faster\n",
    "full_series = series_list\n",
    "selected_series = random.sample(full_series, NBR_SAMPLES)\n",
    "# selected_series = full_series\n",
    "\n",
    "# Subsample data\n",
    "train_series = train_series[train_series['series_id'].isin(selected_series)]\n",
    "train_events = train_events[train_events['series_id'].isin(selected_series)]\n",
    "\n",
    "# Merge train_series and train_events into a single fat dataframe\n",
    "train_merged = pd.merge(train_series, train_events, on=['series_id', 'step', 'timestamp'], how='outer').reset_index(drop=True)\n",
    "\n",
    "print('Nbr. of selected training series: ' + str(NBR_SAMPLES))\n",
    "print('Nbr. of data points (timesteps): ' + str(len(train_merged)))\n",
    "print()"
   ]
  },
  {
   "cell_type": "code",
   "execution_count": 15,
   "id": "fb6b3a3e-4573-4c81-818f-80a124f8e563",
   "metadata": {},
   "outputs": [
    {
     "data": {
      "text/plain": [
       "269"
      ]
     },
     "execution_count": 15,
     "metadata": {},
     "output_type": "execute_result"
    }
   ],
   "source": [
    "len(list(train_merged.series_id.unique()))"
   ]
  },
  {
   "cell_type": "code",
   "execution_count": 16,
   "id": "f96f2fbd-87d6-4927-9913-5583fcbf1a13",
   "metadata": {},
   "outputs": [],
   "source": [
    "train_merged.to_parquet(path + f'train_merged_{NBR_SAMPLES}.parquet', index=False)\n"
   ]
  },
  {
   "cell_type": "code",
   "execution_count": 17,
   "id": "5715650b-3dd0-4857-9526-58f0583bc007",
   "metadata": {},
   "outputs": [
    {
     "name": "stdout",
     "output_type": "stream",
     "text": [
      "Data has been written to ../child-mind-institute-detect-sleep-states/selected_series_269.csv\n"
     ]
    }
   ],
   "source": [
    "csv_file_path = path + f'selected_series_{NBR_SAMPLES}.csv'\n",
    "with open(csv_file_path, 'w') as csv_file:\n",
    "    # Write the list elements separated by commas\n",
    "    csv_file.write(','.join(selected_series))\n",
    "print(f'Data has been written to {csv_file_path}')"
   ]
  },
  {
   "cell_type": "code",
   "execution_count": null,
   "id": "1ba9ceb4-f005-495c-b74d-c06d15642081",
   "metadata": {},
   "outputs": [],
   "source": []
  },
  {
   "cell_type": "code",
   "execution_count": null,
   "id": "1c60c250-4a4a-4b18-824a-ea8dfe539ab8",
   "metadata": {},
   "outputs": [],
   "source": []
  },
  {
   "cell_type": "code",
   "execution_count": null,
   "id": "24cde99f-4f40-4b05-b640-a81a7975060a",
   "metadata": {},
   "outputs": [],
   "source": []
  },
  {
   "cell_type": "code",
   "execution_count": null,
   "id": "8a7b9549-2cb4-4217-95a1-1ae623d0d7a0",
   "metadata": {},
   "outputs": [],
   "source": []
  }
 ],
 "metadata": {
  "kernelspec": {
   "display_name": "Python [conda env:conda_env]",
   "language": "python",
   "name": "conda-env-conda_env-py"
  },
  "language_info": {
   "codemirror_mode": {
    "name": "ipython",
    "version": 3
   },
   "file_extension": ".py",
   "mimetype": "text/x-python",
   "name": "python",
   "nbconvert_exporter": "python",
   "pygments_lexer": "ipython3",
   "version": "3.10.13"
  }
 },
 "nbformat": 4,
 "nbformat_minor": 5
}
