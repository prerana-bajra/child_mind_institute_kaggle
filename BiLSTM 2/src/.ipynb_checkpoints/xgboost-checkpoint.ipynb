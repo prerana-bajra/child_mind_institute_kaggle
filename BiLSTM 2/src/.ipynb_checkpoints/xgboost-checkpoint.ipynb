{
 "cells": [
  {
   "cell_type": "code",
   "execution_count": 1,
   "id": "40d072b7",
   "metadata": {},
   "outputs": [
    {
     "name": "stdout",
     "output_type": "stream",
     "text": [
      "Requirement already satisfied: polars in /Users/preranabajracharya/anaconda3/lib/python3.10/site-packages (0.19.7)\r\n"
     ]
    }
   ],
   "source": [
    "!pip install polars"
   ]
  },
  {
   "cell_type": "code",
   "execution_count": 3,
   "id": "1f4483e4",
   "metadata": {},
   "outputs": [],
   "source": [
    "# 📚 Importing necessary libraries 📊\n",
    "import numpy as np              # NumPy for numerical operations\n",
    "import pandas as pd             # Pandas for data manipulation\n",
    "import plotly.express as px     # Plotly Express for interactive plotting\n",
    "import matplotlib.pyplot as plt # Matplotlib for basic plotting\n",
    "import seaborn as sns           # Seaborn for statistical data visualization\n",
    "import random                   # Random for generating random numbers\n",
    "import os                       # OS for interacting with the operating system\n",
    "import gc                       # Garbage collector for memory management\n"
   ]
  },
  {
   "cell_type": "code",
   "execution_count": 4,
   "id": "46c989c6",
   "metadata": {},
   "outputs": [],
   "source": [
    "from copy import deepcopy      # Deepcopy for creating deep copies of objects\n",
    "from functools import partial  # Partial function application for function manipulation\n",
    "from itertools import combinations  # Combinations for creating combinations of elements\n",
    "from itertools import groupby  # Groupby for grouping elements in an iterable\n"
   ]
  },
  {
   "cell_type": "code",
   "execution_count": 5,
   "id": "2f105b3d",
   "metadata": {},
   "outputs": [],
   "source": [
    "from tqdm import tqdm          # tqdm for progress bars\n",
    "#import polars as pl            # Polars for data manipulation\n",
    "import datetime                # Datetime for date and time operations"
   ]
  },
  {
   "cell_type": "code",
   "execution_count": 6,
   "id": "1bc298ca",
   "metadata": {},
   "outputs": [],
   "source": [
    "# 📋 Define column names and tolerances for the score function 📋\n",
    "column_names = {\n",
    "    'series_id_column_name': 'series_id',\n",
    "    'time_column_name': 'step',\n",
    "    'event_column_name': 'event',\n",
    "    'score_column_name': 'score',\n",
    "}\n",
    "\n",
    "tolerances = {\n",
    "    'onset': [12, 36, 60, 90, 120, 150, 180, 240, 300, 360], \n",
    "    'wakeup': [12, 36, 60, 90, 120, 150, 180, 240, 300, 360]\n",
    "}\n",
    "\n",
    "# 📊 Setting display options for Pandas DataFrames 📊\n",
    "pd.set_option('display.max_columns', None)  # Show all columns\n",
    "\n",
    "# 🚫 Suppressing warnings 🚫\n",
    "import warnings\n",
    "warnings.filterwarnings(\"ignore\", category=UserWarning)"
   ]
  },
  {
   "cell_type": "code",
   "execution_count": 34,
   "id": "9158e127",
   "metadata": {},
   "outputs": [],
   "source": [
    "# 🧱 Importing specific functions and classes 🧱\n",
    "from sklearn.model_selection import train_test_split  # Splitting data into training and testing sets\n",
    "from sklearn.model_selection import StratifiedKFold, KFold  # Cross-validation techniques\n",
    "from sklearn.metrics import roc_auc_score, accuracy_score, log_loss  # Evaluation metrics\n",
    "from sklearn.model_selection import cross_validate  # Cross-validation scoring\n",
    "from sklearn.metrics import RocCurveDisplay, confusion_matrix, ConfusionMatrixDisplay, precision_score, average_precision_score  # Metrics and displays\n",
    "import optuna  # Library for hyperparameter tuning\n",
    "import xgboost as xgb  # XGBoost for gradient boosting\n",
    "import lightgbm as lgb  # LightGBM for gradient boosting\n",
    "from bayes_opt import BayesianOptimization\n",
    "from sklearn.linear_model import LogisticRegression  # Logistic Regression\n",
    "from sklearn.ensemble import RandomForestClassifier, GradientBoostingClassifier  # Random Forest and Gradient Boosting\n",
    "from sklearn.pipeline import Pipeline  # Pipeline for building a sequence of data transformations\n",
    "from catboost import Pool  # CatBoost for gradient boosting\n",
    "from sklearn.ensemble import BaggingClassifier, StackingClassifier\n",
    "\n",
    "# ⚙️ Importing a custom metric function ⚙️#\n",
    "#from metric import score  # Importing a custom event detection AP score function"
   ]
  },
  {
   "cell_type": "code",
   "execution_count": 32,
   "id": "f9311c2c",
   "metadata": {},
   "outputs": [
    {
     "name": "stdout",
     "output_type": "stream",
     "text": [
      "Collecting score\n",
      "  Using cached score-0.0.1a0.tar.gz (17 kB)\n",
      "  Preparing metadata (setup.py) ... \u001b[?25lerror\n",
      "  \u001b[1;31merror\u001b[0m: \u001b[1msubprocess-exited-with-error\u001b[0m\n",
      "  \n",
      "  \u001b[31m×\u001b[0m \u001b[32mpython setup.py egg_info\u001b[0m did not run successfully.\n",
      "  \u001b[31m│\u001b[0m exit code: \u001b[1;36m1\u001b[0m\n",
      "  \u001b[31m╰─>\u001b[0m \u001b[31m[6 lines of output]\u001b[0m\n",
      "  \u001b[31m   \u001b[0m Traceback (most recent call last):\n",
      "  \u001b[31m   \u001b[0m   File \"<string>\", line 2, in <module>\n",
      "  \u001b[31m   \u001b[0m   File \"<pip-setuptools-caller>\", line 34, in <module>\n",
      "  \u001b[31m   \u001b[0m   File \"/private/var/folders/dw/v4qq90490sxd2_vtfl7dgzyc0000gn/T/pip-install-7kvrmjwf/score_d772ce2f6cb44d628c0fa00a5006fd0c/setup.py\", line 4, in <module>\n",
      "  \u001b[31m   \u001b[0m     from Cython.Build import cythonize\n",
      "  \u001b[31m   \u001b[0m ModuleNotFoundError: No module named 'Cython'\n",
      "  \u001b[31m   \u001b[0m \u001b[31m[end of output]\u001b[0m\n",
      "  \n",
      "  \u001b[1;35mnote\u001b[0m: This error originates from a subprocess, and is likely not a problem with pip.\n",
      "\u001b[1;31merror\u001b[0m: \u001b[1mmetadata-generation-failed\u001b[0m\n",
      "\n",
      "\u001b[31m×\u001b[0m Encountered error while generating package metadata.\n",
      "\u001b[31m╰─>\u001b[0m See above for output.\n",
      "\n",
      "\u001b[1;35mnote\u001b[0m: This is an issue with the package mentioned above, not pip.\n",
      "\u001b[1;36mhint\u001b[0m: See above for details.\n",
      "\u001b[?25h"
     ]
    }
   ],
   "source": [
    "!pip install score"
   ]
  },
  {
   "cell_type": "code",
   "execution_count": 21,
   "id": "01fb4182",
   "metadata": {},
   "outputs": [
    {
     "name": "stdout",
     "output_type": "stream",
     "text": [
      "Collecting pip==21.3.1\n",
      "  Downloading pip-21.3.1-py3-none-any.whl (1.7 MB)\n",
      "\u001b[2K     \u001b[90m━━━━━━━━━━━━━━━━━━━━━━━━━━━━━━━━━━━━━━━━\u001b[0m \u001b[32m1.7/1.7 MB\u001b[0m \u001b[31m15.5 MB/s\u001b[0m eta \u001b[36m0:00:00\u001b[0ma \u001b[36m0:00:01\u001b[0m\n",
      "\u001b[?25hInstalling collected packages: pip\n",
      "  Attempting uninstall: pip\n",
      "    Found existing installation: pip 22.3.1\n",
      "    Uninstalling pip-22.3.1:\n",
      "      Successfully uninstalled pip-22.3.1\n",
      "Successfully installed pip-21.3.1\n"
     ]
    }
   ],
   "source": [
    "!pip install pip==21.3.1\n"
   ]
  },
  {
   "cell_type": "code",
   "execution_count": 27,
   "id": "b24f1e12",
   "metadata": {},
   "outputs": [
    {
     "name": "stdout",
     "output_type": "stream",
     "text": [
      "1.10.0\n"
     ]
    }
   ],
   "source": [
    "import scipy\n",
    "print(scipy.__version__)"
   ]
  },
  {
   "cell_type": "code",
   "execution_count": 31,
   "id": "3e3692eb",
   "metadata": {
    "scrolled": true
   },
   "outputs": [
    {
     "name": "stdout",
     "output_type": "stream",
     "text": [
      "Requirement already satisfied: pip in /Users/preranabajracharya/anaconda3/lib/python3.10/site-packages (21.3.1)\n",
      "Collecting pip\n",
      "  Downloading pip-23.2.1-py3-none-any.whl (2.1 MB)\n",
      "     |████████████████████████████████| 2.1 MB 3.2 MB/s            \n",
      "\u001b[?25hInstalling collected packages: pip\n",
      "  Attempting uninstall: pip\n",
      "    Found existing installation: pip 21.3.1\n",
      "    Uninstalling pip-21.3.1:\n",
      "      Successfully uninstalled pip-21.3.1\n",
      "Successfully installed pip-23.2.1\n"
     ]
    }
   ],
   "source": [
    "!pip install --upgrade pip"
   ]
  },
  {
   "cell_type": "code",
   "execution_count": null,
   "id": "8645f279",
   "metadata": {},
   "outputs": [],
   "source": [
    "import polars as pl            # Polars for data manipulation\n",
    "\n",
    "\n",
    "# Column transformations for timestamp\n",
    "dt_transforms = [\n",
    "    pl.col('timestamp').str.to_datetime(),  # Convert timestamp to datetime\n",
    "    (pl.col('timestamp').str.to_datetime().dt.year() - 2000).cast(pl.UInt8).alias('year'),  # Extract and cast year\n",
    "    pl.col('timestamp').str.to_datetime().dt.month().cast(pl.UInt8).alias('month'),  # Extract and cast month\n",
    "    pl.col('timestamp').str.to_datetime().dt.day().cast(pl.UInt8).alias('day'),  # Extract and cast day\n",
    "    pl.col('timestamp').str.to_datetime().dt.hour().cast(pl.UInt8).alias('hour')  # Extract and cast hour\n",
    "]\n",
    "\n",
    "# Column transformations for data\n",
    "data_transforms = [\n",
    "    pl.col('anglez').cast(pl.Int16),  # Casting 'anglez' to 16-bit integer\n",
    "    (pl.col('enmo') * 1000).cast(pl.UInt16)  # Convert 'enmo' to 16-bit unsigned integer\n",
    "]\n",
    "\n",
    "# Loading and transforming training series data\n",
    "train_series = pl.scan_parquet('/kaggle/input/child-mind-institute-detect-sleep-states/train_series.parquet').with_columns(\n",
    "    dt_transforms + data_transforms\n",
    ")\n",
    "\n",
    "# Loading and transforming training events data\n",
    "train_events = pl.read_csv('/kaggle/input/child-mind-institute-detect-sleep-states/train_events.csv').with_columns(\n",
    "    dt_transforms\n",
    ")\n",
    "\n",
    "# Loading and transforming test series data\n",
    "test_series = pl.scan_parquet('/kaggle/input/child-mind-institute-detect-sleep-states/test_series.parquet').with_columns(\n",
    "    dt_transforms + data_transforms\n",
    ")\n",
    "\n",
    "# Getting unique series IDs for convenience\n",
    "series_ids = train_events['series_id'].unique(maintain_order=True).to_list()\n",
    "\n",
    "# Removing series with mismatched event counts (onset vs. wakeup)\n",
    "onset_counts = train_events.filter(pl.col('event') == 'onset').group_by('series_id').count().sort('series_id')['count']\n",
    "wakeup_counts = train_events.filter(pl.col('event') == 'wakeup').group_by('series_id').count().sort('series_id')['count']\n",
    "\n",
    "counts = pl.DataFrame({'series_id': sorted(series_ids), 'onset_counts': onset_counts, 'wakeup_counts': wakeup_counts})\n",
    "count_mismatches = counts.filter(counts['onset_counts'] != counts['wakeup_counts'])\n",
    "\n",
    "# Filtering out series with count mismatches\n",
    "train_series = train_series.filter(~pl.col('series_id').is_in(count_mismatches['series_id']))\n",
    "train_events = train_events.filter(~pl.col('series_id').is_in(count_mismatches['series_id']))\n",
    "\n",
    "# Updating the list of series IDs, excluding series with no non-null values\n",
    "series_ids = train_events.drop_nulls()['series_id'].unique(maintain_order=True).to_list()"
   ]
  },
  {
   "cell_type": "code",
   "execution_count": null,
   "id": "e044da48",
   "metadata": {},
   "outputs": [],
   "source": []
  },
  {
   "cell_type": "code",
   "execution_count": null,
   "id": "fb7a5132",
   "metadata": {},
   "outputs": [],
   "source": []
  },
  {
   "cell_type": "code",
   "execution_count": null,
   "id": "2337a153",
   "metadata": {},
   "outputs": [],
   "source": []
  },
  {
   "cell_type": "code",
   "execution_count": null,
   "id": "d0ddfa41",
   "metadata": {},
   "outputs": [],
   "source": []
  },
  {
   "cell_type": "code",
   "execution_count": null,
   "id": "72668f46",
   "metadata": {},
   "outputs": [],
   "source": []
  },
  {
   "cell_type": "code",
   "execution_count": null,
   "id": "93c317f9",
   "metadata": {},
   "outputs": [],
   "source": []
  },
  {
   "cell_type": "code",
   "execution_count": null,
   "id": "3508e2de",
   "metadata": {},
   "outputs": [],
   "source": []
  },
  {
   "cell_type": "code",
   "execution_count": null,
   "id": "b24deb9d",
   "metadata": {},
   "outputs": [],
   "source": []
  },
  {
   "cell_type": "code",
   "execution_count": null,
   "id": "49b1fb0f",
   "metadata": {},
   "outputs": [],
   "source": []
  }
 ],
 "metadata": {
  "kernelspec": {
   "display_name": "Python [conda env:root] *",
   "language": "python",
   "name": "conda-root-py"
  },
  "language_info": {
   "codemirror_mode": {
    "name": "ipython",
    "version": 3
   },
   "file_extension": ".py",
   "mimetype": "text/x-python",
   "name": "python",
   "nbconvert_exporter": "python",
   "pygments_lexer": "ipython3",
   "version": "3.10.9"
  }
 },
 "nbformat": 4,
 "nbformat_minor": 5
}
