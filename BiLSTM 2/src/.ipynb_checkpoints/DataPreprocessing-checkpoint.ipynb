{
 "cells": [
  {
   "cell_type": "code",
   "execution_count": 2,
   "id": "290ac1ea-6a49-4b1a-a8aa-f25b4979afa5",
   "metadata": {},
   "outputs": [],
   "source": [
    "from pathlib import Path\n",
    "import pyarrow.parquet as pq\n",
    "import gc\n",
    "import pandas as pd\n",
    "import numpy as np"
   ]
  },
  {
   "cell_type": "code",
   "execution_count": 3,
   "id": "2956ed0b-b4dc-4823-978e-2051e9943312",
   "metadata": {},
   "outputs": [
    {
     "name": "stdout",
     "output_type": "stream",
     "text": [
      "CPU times: user 50 s, sys: 33.3 s, total: 1min 23s\n",
      "Wall time: 1min 23s\n"
     ]
    }
   ],
   "source": [
    "%%time\n",
    "ORIGIN = Path('../child-mind-institute-detect-sleep-states/')\n",
    "\n",
    "df_train = pq.read_table(ORIGIN / 'train_series.parquet').to_pandas()\n",
    "df_train_events = pd.read_csv(ORIGIN / 'train_events.csv')\n",
    "# df_test = pq.read_table(ORIGIN / 'test_series.parquet').to_pandas()\n",
    "# df_sample = pd.read_csv(ORIGIN / 'sample_submission.csv')"
   ]
  },
  {
   "cell_type": "code",
   "execution_count": null,
   "id": "34a9699c-f270-4b03-9b58-db2e8ae54f39",
   "metadata": {},
   "outputs": [],
   "source": [
    "# df_train_events = pd.read_csv(ORIGIN / 'train_events.csv')"
   ]
  },
  {
   "cell_type": "code",
   "execution_count": 3,
   "id": "72817794-d823-4ae1-b82a-f5495ac5cc48",
   "metadata": {},
   "outputs": [
    {
     "name": "stdout",
     "output_type": "stream",
     "text": [
      "<class 'pandas.core.frame.DataFrame'>\n",
      "RangeIndex: 14508 entries, 0 to 14507\n",
      "Data columns (total 5 columns):\n",
      " #   Column     Non-Null Count  Dtype  \n",
      "---  ------     --------------  -----  \n",
      " 0   series_id  14508 non-null  object \n",
      " 1   night      14508 non-null  int64  \n",
      " 2   event      14508 non-null  object \n",
      " 3   step       9585 non-null   float64\n",
      " 4   timestamp  9585 non-null   object \n",
      "dtypes: float64(1), int64(1), object(3)\n",
      "memory usage: 566.8+ KB\n"
     ]
    }
   ],
   "source": [
    "df_train_events.info()"
   ]
  },
  {
   "cell_type": "code",
   "execution_count": 4,
   "id": "86b0c6c1-3a77-4d75-ad5f-05023576506c",
   "metadata": {},
   "outputs": [
    {
     "ename": "NameError",
     "evalue": "name 'df_train' is not defined",
     "output_type": "error",
     "traceback": [
      "\u001b[0;31m---------------------------------------------------------------------------\u001b[0m",
      "\u001b[0;31mNameError\u001b[0m                                 Traceback (most recent call last)",
      "Cell \u001b[0;32mIn[4], line 1\u001b[0m\n\u001b[0;32m----> 1\u001b[0m \u001b[43mdf_train\u001b[49m\u001b[38;5;241m.\u001b[39minfo()\n",
      "\u001b[0;31mNameError\u001b[0m: name 'df_train' is not defined"
     ]
    }
   ],
   "source": [
    "df_train.info()"
   ]
  },
  {
   "cell_type": "code",
   "execution_count": null,
   "id": "f05958a7-997e-411f-8bb0-72897b7b1ba6",
   "metadata": {},
   "outputs": [],
   "source": [
    "df_train_events.isnull().sum()"
   ]
  },
  {
   "cell_type": "code",
   "execution_count": null,
   "id": "7408e56e-b340-4f22-84d4-8670c5aeab5a",
   "metadata": {},
   "outputs": [],
   "source": [
    "df_train.isnull().sum()"
   ]
  },
  {
   "cell_type": "code",
   "execution_count": 5,
   "id": "7bef8114-5837-4518-bf1e-abe026000434",
   "metadata": {},
   "outputs": [
    {
     "name": "stdout",
     "output_type": "stream",
     "text": [
      "<class 'pandas.core.frame.DataFrame'>\n",
      "Int64Index: 9585 entries, 0 to 14505\n",
      "Data columns (total 5 columns):\n",
      " #   Column     Non-Null Count  Dtype  \n",
      "---  ------     --------------  -----  \n",
      " 0   series_id  9585 non-null   object \n",
      " 1   night      9585 non-null   int64  \n",
      " 2   event      9585 non-null   object \n",
      " 3   step       9585 non-null   float64\n",
      " 4   timestamp  9585 non-null   object \n",
      "dtypes: float64(1), int64(1), object(3)\n",
      "memory usage: 449.3+ KB\n"
     ]
    }
   ],
   "source": [
    "df_train_events = df_train_events.dropna()\n",
    "df_train_events.info()"
   ]
  },
  {
   "cell_type": "code",
   "execution_count": 7,
   "id": "db1d12cc-e89f-4191-991b-dc7c57214c68",
   "metadata": {},
   "outputs": [],
   "source": [
    "def reduce_memory_usage(data):\n",
    "        \"iterate through all the columns of a dataframe and modify the data type to reduce memory usage.\"\n",
    "        start_mem = data.memory_usage().sum() / 1024**2\n",
    "        print('Memory usage of dataframe is {:.2f} MB'.format(start_mem))\n",
    "        for col in data.columns:\n",
    "            col_type = data[col].dtype    \n",
    "            if col_type != object:\n",
    "                c_min = data[col].min()\n",
    "                c_max = data[col].max()\n",
    "                if str(col_type)[:3] == 'int':\n",
    "                    if c_min > np.iinfo(np.int8).min and c_max < np.iinfo(np.int8).max:\n",
    "                        data[col] = data[col].astype(np.int8)\n",
    "                    elif c_min > np.iinfo(np.int16).min and c_max < np.iinfo(np.int16).max:\n",
    "                        data[col] = data[col].astype(np.int16)\n",
    "                    elif c_min > np.iinfo(np.int32).min and c_max < np.iinfo(np.int32).max:\n",
    "                        data[col] = data[col].astype(np.int32)\n",
    "                    elif c_min > np.iinfo(np.int64).min and c_max < np.iinfo(np.int64).max:\n",
    "                        data[col] = data[col].astype(np.int64)  \n",
    "                else:\n",
    "                    if c_min > np.finfo(np.float16).min and c_max < np.finfo(np.float16).max:\n",
    "                        data[col] = data[col].astype(np.float16)\n",
    "                    elif c_min > np.finfo(np.float32).min and c_max < np.finfo(np.float32).max:\n",
    "                        data[col] = data[col].astype(np.float32)\n",
    "                    else:\n",
    "                        data[col] = data[col].astype(np.float64)\n",
    "            else:\n",
    "                if col.lower() == 'timestamp':\n",
    "                    data[col] = pd.to_datetime(data[col])\n",
    "                else:\n",
    "                    data[col] = data[col].astype('category')\n",
    "\n",
    "        end_mem = data.memory_usage().sum() / 1024**2\n",
    "        print('Memory usage after optimization is: {:.2f} MB'.format(end_mem))\n",
    "        print('Decreased by {:.1f}%'.format(100 * (start_mem - end_mem) / start_mem))\n",
    "        return data"
   ]
  },
  {
   "cell_type": "code",
   "execution_count": 8,
   "id": "5ab5eeba-42f8-4f7a-8375-31ae95b34942",
   "metadata": {},
   "outputs": [
    {
     "name": "stdout",
     "output_type": "stream",
     "text": [
      "Memory usage of dataframe is 0.44 MB\n",
      "Memory usage after optimization is: 0.23 MB\n",
      "Decreased by 47.7%\n"
     ]
    }
   ],
   "source": [
    "df_train_events = reduce_memory_usage(df_train_events)"
   ]
  },
  {
   "cell_type": "code",
   "execution_count": 9,
   "id": "dd974f82-50a7-4f38-ba81-3097877d09a5",
   "metadata": {},
   "outputs": [],
   "source": [
    "df_train_events['timestamp_unix'] = df_train_events['timestamp'].apply(lambda x: int(x.timestamp()))"
   ]
  },
  {
   "cell_type": "code",
   "execution_count": null,
   "id": "02aacdf9-12c3-478b-b080-1d6eaac6c672",
   "metadata": {},
   "outputs": [],
   "source": [
    "df_train_events.info()"
   ]
  },
  {
   "cell_type": "code",
   "execution_count": null,
   "id": "e2456d81-97c6-4a16-9f05-bebd60bf2e45",
   "metadata": {},
   "outputs": [],
   "source": [
    "df_train_events.head"
   ]
  },
  {
   "cell_type": "code",
   "execution_count": null,
   "id": "e6db8255-2172-46be-9828-3cf5544cd72b",
   "metadata": {},
   "outputs": [],
   "source": [
    "import matplotlib.pyplot as plt\n",
    "\n",
    "# Assuming df_train and df_train_events are already loaded and cleaned\n",
    "\n",
    "# Select the first series ID from df_train\n",
    "first_series_id = df_train['series_id'].iloc[0]\n",
    "df_first_series = df_train[df_train['series_id'] == first_series_id]\n",
    "\n",
    "# Plot enmo values over time\n",
    "plt.figure(figsize=(12, 6))\n",
    "plt.plot(df_first_series['timestamp'], df_first_series['enmo'], label='enmo', color='blue')\n",
    "\n",
    "# Annotate awake and sleep time points from df_train_events\n",
    "for index, row in df_train_events[df_train_events.index == first_series_id].iterrows():\n",
    "    label = f\"{row['event']} - {row['timestamp']}\"\n",
    "    plt.annotate(label, (row['timestamp'], 0), textcoords=\"offset points\", xytext=(0, 10), ha='center', fontsize=8, color='red')\n",
    "\n",
    "# Customize plot\n",
    "plt.title(f'ENMO Time Series for Series ID: {first_series_id}')\n",
    "plt.xlabel('Timestamp')\n",
    "plt.ylabel('ENMO Values')\n",
    "plt.legend()\n",
    "plt.grid(True)\n",
    "plt.show()\n"
   ]
  },
  {
   "cell_type": "code",
   "execution_count": 13,
   "id": "2e49d2f6-1ae2-44da-95a2-9fbf55f95ea3",
   "metadata": {},
   "outputs": [
    {
     "ename": "NameError",
     "evalue": "name 'df_train' is not defined",
     "output_type": "error",
     "traceback": [
      "\u001b[0;31m---------------------------------------------------------------------------\u001b[0m",
      "\u001b[0;31mNameError\u001b[0m                                 Traceback (most recent call last)",
      "Cell \u001b[0;32mIn[13], line 1\u001b[0m\n\u001b[0;32m----> 1\u001b[0m first_series_id \u001b[38;5;241m=\u001b[39m \u001b[43mdf_train\u001b[49m[\u001b[38;5;124m'\u001b[39m\u001b[38;5;124mseries_id\u001b[39m\u001b[38;5;124m'\u001b[39m]\u001b[38;5;241m.\u001b[39miloc[\u001b[38;5;241m0\u001b[39m]\n\u001b[1;32m      2\u001b[0m df_first_series \u001b[38;5;241m=\u001b[39m df_train[df_train[\u001b[38;5;124m'\u001b[39m\u001b[38;5;124mseries_id\u001b[39m\u001b[38;5;124m'\u001b[39m] \u001b[38;5;241m==\u001b[39m first_series_id]\n",
      "\u001b[0;31mNameError\u001b[0m: name 'df_train' is not defined"
     ]
    }
   ],
   "source": [
    "first_series_id = df_train['series_id'].iloc[0]\n",
    "df_first_series = df_train[df_train['series_id'] == first_series_id]"
   ]
  },
  {
   "cell_type": "code",
   "execution_count": null,
   "id": "ac3c38c1-2d5f-4071-adb9-9d169f099960",
   "metadata": {},
   "outputs": [],
   "source": [
    "df_first_series.info"
   ]
  },
  {
   "cell_type": "code",
   "execution_count": null,
   "id": "d4c6561c-171c-4e44-beba-465a4f790d29",
   "metadata": {},
   "outputs": [],
   "source": [
    "df_train_events[df_train_events.series_id == first_series_id]"
   ]
  },
  {
   "cell_type": "code",
   "execution_count": 10,
   "id": "b9b7d666-ec63-40b6-8903-89289080bfc3",
   "metadata": {},
   "outputs": [
    {
     "ename": "NameError",
     "evalue": "name 'df_train' is not defined",
     "output_type": "error",
     "traceback": [
      "\u001b[0;31m---------------------------------------------------------------------------\u001b[0m",
      "\u001b[0;31mNameError\u001b[0m                                 Traceback (most recent call last)",
      "Cell \u001b[0;32mIn[10], line 33\u001b[0m\n\u001b[1;32m     30\u001b[0m     plt\u001b[38;5;241m.\u001b[39mshow()\n\u001b[1;32m     32\u001b[0m \u001b[38;5;66;03m# Example: Plotting for the first series_id and a specific date (replace with your own values)\u001b[39;00m\n\u001b[0;32m---> 33\u001b[0m plot_enmo_single_day(series_id\u001b[38;5;241m=\u001b[39m\u001b[43mdf_train\u001b[49m[\u001b[38;5;124m'\u001b[39m\u001b[38;5;124mseries_id\u001b[39m\u001b[38;5;124m'\u001b[39m]\u001b[38;5;241m.\u001b[39miloc[\u001b[38;5;241m0\u001b[39m], target_date\u001b[38;5;241m=\u001b[39m\u001b[38;5;124m'\u001b[39m\u001b[38;5;124m2018-09-04\u001b[39m\u001b[38;5;124m'\u001b[39m)\n",
      "\u001b[0;31mNameError\u001b[0m: name 'df_train' is not defined"
     ]
    }
   ],
   "source": [
    "import matplotlib.pyplot as plt\n",
    "\n",
    "def plot_enmo_single_day(series_id, target_date):\n",
    "    # Convert 'timestamp' to datetime format\n",
    "    df_train['timestamp'] = pd.to_datetime(df_train['timestamp'])\n",
    "    \n",
    "    # Filter data for the specified series_id and date\n",
    "    df_single_day = df_train[df_train['series_id'] == series_id]\n",
    "\n",
    "    # Select rows where the timestamp contains the target_date\n",
    "    df_single_day = df_single_day[df_single_day['timestamp'].dt.date == pd.to_datetime(target_date).date()]\n",
    "\n",
    "    # Plot 'enmo' values\n",
    "    plt.figure(figsize=(10, 6))\n",
    "    plt.plot(df_single_day['timestamp'], df_single_day['enmo'], label='enmo', color='blue')\n",
    "\n",
    "    # Annotate awake and sleep time points from df_train_events\n",
    "    df_events_series = df_train_events[df_train_events.index == series_id]\n",
    "    for index, row in df_events_series.iterrows():\n",
    "        if str(target_date) in str(row['timestamp']):\n",
    "            label = f\"{row['event']} - {row['timestamp']}\"\n",
    "            plt.annotate(label, (row['timestamp'], 0), textcoords=\"offset points\", xytext=(0, 10), ha='center', fontsize=8, color='red')\n",
    "\n",
    "    # Customize plot\n",
    "    plt.title(f'ENMO Time Series for Series ID: {series_id} - Date: {target_date}')\n",
    "    plt.xlabel('Timestamp')\n",
    "    plt.ylabel('ENMO Values')\n",
    "    plt.legend()\n",
    "    plt.grid(True)\n",
    "    plt.show()\n",
    "\n",
    "# Example: Plotting for the first series_id and a specific date (replace with your own values)\n",
    "plot_enmo_single_day(series_id=df_train['series_id'].iloc[0], target_date='2018-09-04')\n"
   ]
  },
  {
   "cell_type": "code",
   "execution_count": 12,
   "id": "94963659-303f-4cab-919b-ac2ef67bf24f",
   "metadata": {},
   "outputs": [
    {
     "ename": "NameError",
     "evalue": "name 'df_first_series' is not defined",
     "output_type": "error",
     "traceback": [
      "\u001b[0;31m---------------------------------------------------------------------------\u001b[0m",
      "\u001b[0;31mNameError\u001b[0m                                 Traceback (most recent call last)",
      "Cell \u001b[0;32mIn[12], line 1\u001b[0m\n\u001b[0;32m----> 1\u001b[0m df \u001b[38;5;241m=\u001b[39m \u001b[43mdf_first_series\u001b[49m\u001b[38;5;241m.\u001b[39mcopy()\n",
      "\u001b[0;31mNameError\u001b[0m: name 'df_first_series' is not defined"
     ]
    }
   ],
   "source": [
    "df = df_first_series.copy()"
   ]
  },
  {
   "cell_type": "code",
   "execution_count": null,
   "id": "322ef59b-5fd2-4bce-a641-15752357c4f4",
   "metadata": {},
   "outputs": [],
   "source": [
    "df.info()"
   ]
  },
  {
   "cell_type": "code",
   "execution_count": null,
   "id": "2c08ca95-9619-4af2-bca9-74fcad8f5ba9",
   "metadata": {},
   "outputs": [],
   "source": [
    "df['timestamp'] = pd.to_datetime(df['timestamp'])\n"
   ]
  },
  {
   "cell_type": "code",
   "execution_count": null,
   "id": "7e9cce0e-0891-4a14-b89d-c8efc34cbb23",
   "metadata": {},
   "outputs": [],
   "source": [
    "df.info()"
   ]
  },
  {
   "cell_type": "code",
   "execution_count": null,
   "id": "5edd1289-a7a9-4842-9925-d923bfbaad1b",
   "metadata": {},
   "outputs": [],
   "source": [
    "df.shape"
   ]
  },
  {
   "cell_type": "code",
   "execution_count": null,
   "id": "34a2da74-7a44-4042-8f6c-e2900d06ea59",
   "metadata": {},
   "outputs": [],
   "source": [
    "df_single_day = df[df['timestamp'].dt.date == pd.to_datetime('2018-08-15').date()].copy()\n"
   ]
  },
  {
   "cell_type": "code",
   "execution_count": null,
   "id": "6af2bbb1-0c0a-4938-83b2-25b5bcd2f357",
   "metadata": {},
   "outputs": [],
   "source": [
    "df_single_day.head"
   ]
  },
  {
   "cell_type": "code",
   "execution_count": 11,
   "id": "639f9c3c-6621-4df5-975c-5fd29eaa440e",
   "metadata": {},
   "outputs": [
    {
     "ename": "NameError",
     "evalue": "name 'df_single_day' is not defined",
     "output_type": "error",
     "traceback": [
      "\u001b[0;31m---------------------------------------------------------------------------\u001b[0m",
      "\u001b[0;31mNameError\u001b[0m                                 Traceback (most recent call last)",
      "Cell \u001b[0;32mIn[11], line 2\u001b[0m\n\u001b[1;32m      1\u001b[0m plt\u001b[38;5;241m.\u001b[39mfigure(figsize\u001b[38;5;241m=\u001b[39m(\u001b[38;5;241m10\u001b[39m, \u001b[38;5;241m6\u001b[39m))\n\u001b[0;32m----> 2\u001b[0m plt\u001b[38;5;241m.\u001b[39mplot(\u001b[43mdf_single_day\u001b[49m[\u001b[38;5;124m'\u001b[39m\u001b[38;5;124mtimestamp\u001b[39m\u001b[38;5;124m'\u001b[39m], df_single_day[\u001b[38;5;124m'\u001b[39m\u001b[38;5;124menmo\u001b[39m\u001b[38;5;124m'\u001b[39m], label\u001b[38;5;241m=\u001b[39m\u001b[38;5;124m'\u001b[39m\u001b[38;5;124menmo\u001b[39m\u001b[38;5;124m'\u001b[39m, color\u001b[38;5;241m=\u001b[39m\u001b[38;5;124m'\u001b[39m\u001b[38;5;124mblue\u001b[39m\u001b[38;5;124m'\u001b[39m)\n\u001b[1;32m      3\u001b[0m plt\u001b[38;5;241m.\u001b[39mfigure(figsize\u001b[38;5;241m=\u001b[39m(\u001b[38;5;241m10\u001b[39m, \u001b[38;5;241m6\u001b[39m))\n\u001b[1;32m      4\u001b[0m plt\u001b[38;5;241m.\u001b[39mplot(df_single_day[\u001b[38;5;124m'\u001b[39m\u001b[38;5;124mtimestamp\u001b[39m\u001b[38;5;124m'\u001b[39m], df_single_day[\u001b[38;5;124m'\u001b[39m\u001b[38;5;124manglez\u001b[39m\u001b[38;5;124m'\u001b[39m], label\u001b[38;5;241m=\u001b[39m\u001b[38;5;124m'\u001b[39m\u001b[38;5;124manglez\u001b[39m\u001b[38;5;124m'\u001b[39m, color\u001b[38;5;241m=\u001b[39m\u001b[38;5;124m'\u001b[39m\u001b[38;5;124mmagenta\u001b[39m\u001b[38;5;124m'\u001b[39m)\n",
      "\u001b[0;31mNameError\u001b[0m: name 'df_single_day' is not defined"
     ]
    },
    {
     "data": {
      "text/plain": [
       "<Figure size 1000x600 with 0 Axes>"
      ]
     },
     "metadata": {},
     "output_type": "display_data"
    }
   ],
   "source": [
    "plt.figure(figsize=(10, 6))\n",
    "plt.plot(df_single_day['timestamp'], df_single_day['enmo'], label='enmo', color='blue')\n",
    "plt.figure(figsize=(10, 6))\n",
    "plt.plot(df_single_day['timestamp'], df_single_day['anglez'], label='anglez', color='magenta')"
   ]
  },
  {
   "cell_type": "markdown",
   "id": "3dbed595-ab2a-4c54-9477-fb43610bb93c",
   "metadata": {},
   "source": [
    "# subset"
   ]
  },
  {
   "cell_type": "code",
   "execution_count": 9,
   "id": "d71bef75-9413-4407-86fe-8f6073fb7fb7",
   "metadata": {},
   "outputs": [],
   "source": [
    "import random\n"
   ]
  },
  {
   "cell_type": "code",
   "execution_count": 7,
   "id": "8d04dfc0-4fc1-4e66-89f9-adb2bb4dc2ba",
   "metadata": {},
   "outputs": [],
   "source": [
    "series_list = list(df_train_events['series_id'].unique())"
   ]
  },
  {
   "cell_type": "code",
   "execution_count": 10,
   "id": "64819360-c2f2-4d2b-8fdc-42e944054a03",
   "metadata": {},
   "outputs": [],
   "source": [
    "NBR_TRAINING_SERIES = 20\n",
    "full_series = series_list\n",
    "selected_series = random.sample(full_series, NBR_TRAINING_SERIES)"
   ]
  },
  {
   "cell_type": "code",
   "execution_count": 11,
   "id": "714f5722-ab93-4629-98a3-62f1519be899",
   "metadata": {},
   "outputs": [],
   "source": [
    "# selected_series_ids = df_train['series_id'].unique()[:20]\n",
    "\n",
    "# Create a subset of df_train and corresponding rows from df_train_events\n",
    "subset_df_train = df_train[df_train['series_id'].isin(selected_series)]\n",
    "subset_df_train_events = df_train_events[df_train_events['series_id'].isin(selected_series)]\n"
   ]
  },
  {
   "cell_type": "code",
   "execution_count": 12,
   "id": "4ba0b758-4ab7-462d-b9f5-83d444a7fc5b",
   "metadata": {},
   "outputs": [],
   "source": [
    "subset_df_train.to_csv(ORIGIN / 'subset_train_series.csv', index=False)\n",
    "subset_df_train_events.to_csv(ORIGIN / 'subset_train_events.csv', index=False)"
   ]
  }
 ],
 "metadata": {
  "kernelspec": {
   "display_name": "Python 3 (ipykernel)",
   "language": "python",
   "name": "python3"
  },
  "language_info": {
   "codemirror_mode": {
    "name": "ipython",
    "version": 3
   },
   "file_extension": ".py",
   "mimetype": "text/x-python",
   "name": "python",
   "nbconvert_exporter": "python",
   "pygments_lexer": "ipython3",
   "version": "3.10.9"
  }
 },
 "nbformat": 4,
 "nbformat_minor": 5
}
