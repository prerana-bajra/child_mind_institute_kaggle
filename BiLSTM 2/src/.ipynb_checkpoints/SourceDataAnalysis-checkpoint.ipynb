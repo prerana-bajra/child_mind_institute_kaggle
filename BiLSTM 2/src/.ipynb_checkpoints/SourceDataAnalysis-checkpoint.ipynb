{
 "cells": [
  {
   "cell_type": "code",
   "execution_count": 1,
   "id": "40af3834",
   "metadata": {},
   "outputs": [],
   "source": [
    "import pyarrow.parquet as pq\n",
    "import pandas as pd"
   ]
  },
  {
   "cell_type": "code",
   "execution_count": 2,
   "id": "ff0a81d7",
   "metadata": {},
   "outputs": [],
   "source": [
    "# Read the Parquet file\n",
    "table = pq.read_table('../child-mind-institute-detect-sleep-states/train_series.parquet')\n",
    "\n",
    "# Convert to a Pandas DataFrame (if needed)\n",
    "df = table.to_pandas()\n",
    "\n",
    "# Save as CSV\n",
    "# df.to_csv('data.csv', index=False)"
   ]
  },
  {
   "cell_type": "code",
   "execution_count": 5,
   "id": "62c15bac",
   "metadata": {},
   "outputs": [
    {
     "name": "stdout",
     "output_type": "stream",
     "text": [
      "      series_id  step                 timestamp  anglez    enmo\n",
      "0  038441c925bb     0  2018-08-14T15:30:00-0400  2.6367  0.0217\n",
      "1  038441c925bb     1  2018-08-14T15:30:05-0400  2.6368  0.0215\n",
      "2  038441c925bb     2  2018-08-14T15:30:10-0400  2.6370  0.0216\n",
      "3  038441c925bb     3  2018-08-14T15:30:15-0400  2.6368  0.0213\n",
      "4  038441c925bb     4  2018-08-14T15:30:20-0400  2.6368  0.0215\n"
     ]
    }
   ],
   "source": [
    "print(df.head())"
   ]
  },
  {
   "cell_type": "code",
   "execution_count": 16,
   "id": "fd103a36",
   "metadata": {},
   "outputs": [
    {
     "name": "stdout",
     "output_type": "stream",
     "text": [
      "(277,)\n"
     ]
    }
   ],
   "source": [
    "unique_sID = df['series_id'].unique()\n",
    "print(unique_sID.shape)"
   ]
  },
  {
   "cell_type": "code",
   "execution_count": 17,
   "id": "385f5e97",
   "metadata": {
    "scrolled": true
   },
   "outputs": [
    {
     "name": "stdout",
     "output_type": "stream",
     "text": [
      "(127946340, 5)\n"
     ]
    }
   ],
   "source": [
    "print(df.shape)"
   ]
  },
  {
   "cell_type": "code",
   "execution_count": null,
   "id": "aeb6f07d",
   "metadata": {},
   "outputs": [],
   "source": []
  }
 ],
 "metadata": {
  "kernelspec": {
   "display_name": "Python [conda env:root] *",
   "language": "python",
   "name": "conda-root-py"
  },
  "language_info": {
   "codemirror_mode": {
    "name": "ipython",
    "version": 3
   },
   "file_extension": ".py",
   "mimetype": "text/x-python",
   "name": "python",
   "nbconvert_exporter": "python",
   "pygments_lexer": "ipython3",
   "version": "3.10.9"
  }
 },
 "nbformat": 4,
 "nbformat_minor": 5
}
